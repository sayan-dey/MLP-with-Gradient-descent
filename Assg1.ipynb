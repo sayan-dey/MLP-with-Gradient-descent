{
  "nbformat": 4,
  "nbformat_minor": 0,
  "metadata": {
    "colab": {
      "provenance": []
    },
    "kernelspec": {
      "name": "python3",
      "display_name": "Python 3"
    },
    "language_info": {
      "name": "python"
    }
  },
  "cells": [
    {
      "cell_type": "code",
      "execution_count": 30,
      "metadata": {
        "id": "Io2axbGEtegq"
      },
      "outputs": [],
      "source": [
        "import numpy as np\n",
        "import pandas as pd\n",
        "import matplotlib.pyplot as plt\n",
        "import random\n",
        "import os, subprocess"
      ]
    },
    {
      "cell_type": "markdown",
      "source": [
        "# **Ques 1**"
      ],
      "metadata": {
        "id": "DQNPxCa9sG9N"
      }
    },
    {
      "cell_type": "code",
      "source": [
        "class Perceptron:\n",
        "    def __init__(self, N):\n",
        "        # Creation of random linearly separated dataset\n",
        "        xA,yA,xB,yB = [random.uniform(-4, 4) for i in range(4)]\n",
        "        self.V = np.array([xB*yA-xA*yB, yB-yA, xA-xB])\n",
        "        self.X = self.generate_points(N)\n",
        " \n",
        "    def generate_points(self, N):\n",
        "      X = []\n",
        "      for i in range(N):\n",
        "        x1,x2 = [random.uniform(-4, 4) for i in range(2)]\n",
        "        x = np.array([1,x1,x2])\n",
        "        s = int(np.sign(self.V.T.dot(x)))\n",
        "        X.append((x, s))\n",
        "      return X\n",
        " \n",
        "    def plot(self, mispts=None, vec=None, save=False):\n",
        "        fig = plt.figure(figsize=(5,5))\n",
        "        plt.xlim(-4,4)\n",
        "        plt.ylim(-4,4)\n",
        "        V = self.V\n",
        "        a, b = -V[1]/V[2], -V[0]/V[2]\n",
        "        l = np.linspace(-4,4)\n",
        "        plt.plot(l, a*l+b, 'k-')\n",
        "        cols = {1: 'r', -1: 'b'}\n",
        "        for x,s in self.X:\n",
        "            plt.xlabel(\"x coordinate\")\n",
        "            plt.ylabel(\"y coordinate\")\n",
        "            plt.title(\"Dataset with the classifier\")\n",
        "            plt.plot(x[1], x[2], cols[s]+'o')\n",
        "       \n",
        " \n",
        "    def classification_error(self, vec, pts=None):\n",
        "        # Error defined as fraction of misclassified points\n",
        "        if not pts:\n",
        "            pts = self.X\n",
        "        M = len(pts)\n",
        "        n_mispts = 0\n",
        "        for x,s in pts:\n",
        "            if int(np.sign(vec.T.dot(x))) != s:\n",
        "                n_mispts += 1\n",
        "        error = n_mispts / float(M)\n",
        "        return error\n",
        " \n",
        "    def choose_miscl_point(self, vec):\n",
        "        # Choosing a random point among the misclassified\n",
        "        pts = self.X\n",
        "        mispts = []\n",
        "        for x,s in pts:\n",
        "            if int(np.sign(vec.T.dot(x))) != s:\n",
        "                mispts.append((x, s))\n",
        "        return mispts[random.randrange(0,len(mispts))]\n",
        " \n",
        "    def perc_learn_algo(self):\n",
        "        # Initializing the weigths to zeros\n",
        "        w = np.zeros(3)\n",
        "        X, N = self.X, len(self.X)\n",
        "        it = 0\n",
        "        # Iterating till all the points are correctly classified\n",
        "        while self.classification_error(w) != 0:\n",
        "            it += 1\n",
        "            # Picking random misclassified point\n",
        "            x, s = self.choose_miscl_point(w)\n",
        "            # Updating weights\n",
        "            w += s*x         \n",
        "        self.w = w\n",
        " \n",
        "    def check_error(self, M, vec):\n",
        "        check_pts = self.generate_points(M)\n",
        "        return self.classification_error(vec, pts=check_pts)"
      ],
      "metadata": {
        "id": "o_Payrfxw1Rq"
      },
      "execution_count": 337,
      "outputs": []
    },
    {
      "cell_type": "code",
      "source": [
        "p = Perceptron(1000) #setting number of datapoints as 1000\n",
        "p.plot()"
      ],
      "metadata": {
        "colab": {
          "base_uri": "https://localhost:8080/",
          "height": 350
        },
        "id": "jIDSjlIRyQW1",
        "outputId": "af916148-83ae-4e1d-c6ba-1b0d2227b709"
      },
      "execution_count": 338,
      "outputs": [
        {
          "output_type": "display_data",
          "data": {
            "text/plain": [
              "<Figure size 360x360 with 1 Axes>"
            ],
            "image/png": "[encoded data removed]"
          },
          "metadata": {
            "needs_background": "light"
          }
        }
      ]
    },
    {
      "cell_type": "markdown",
      "source": [
        "**Analysis:** \n",
        "Number of iterations required for perfect classification = 100"
      ],
      "metadata": {
        "id": "wHtWVHKPsF_b"
      }
    },
    {
      "cell_type": "code",
      "source": [],
      "metadata": {
        "id": "3vzvMrHdxq4v"
      },
      "execution_count": null,
      "outputs": []
    },
    {
      "cell_type": "markdown",
      "source": [
        "# **Ques 2**"
      ],
      "metadata": {
        "id": "4gT9zPXCxrOL"
      }
    },
    {
      "cell_type": "markdown",
      "source": [
        "**Generation of dataset**"
      ],
      "metadata": {
        "id": "-m1GgP9QATyP"
      }
    },
    {
      "cell_type": "code",
      "source": [
        "D = np.random.rand(1000, 2) #(no. of data points, dimension)\n",
        "print (D)"
      ],
      "metadata": {
        "colab": {
          "base_uri": "https://localhost:8080/"
        },
        "id": "hZofw9SCAeLb",
        "outputId": "7a5cb7f5-d760-4e96-ddb5-9935432f2439"
      },
      "execution_count": 339,
      "outputs": [
        {
          "output_type": "stream",
          "name": "stdout",
          "text": [
            "[[0.71701797 0.39093731]\n",
            " [0.09516825 0.13559688]\n",
            " [0.97390296 0.05171766]\n",
            " ...\n",
            " [0.77353312 0.90221515]\n",
            " [0.23347744 0.773349  ]\n",
            " [0.02894669 0.04472428]]\n"
          ]
        }
      ]
    },
    {
      "cell_type": "code",
      "source": [
        "X = D[:,0]\n",
        "Y = D[:,1]\n",
        "# print(X)\n",
        "# print(X.shape)"
      ],
      "metadata": {
        "id": "eH8uD2xvJtEI"
      },
      "execution_count": 340,
      "outputs": []
    },
    {
      "cell_type": "markdown",
      "source": [
        "**Steps of Gradient Descent Algorithm:**\n",
        "\n",
        "1. Randomly initialize the bias and the weight theta\n",
        "2. Calculate predicted value of y that is Y given the bias and the weight\n",
        "3. Calculate the cost function from predicted and actual values of Y\n",
        "4. Calculate gradient and the weight"
      ],
      "metadata": {
        "id": "wiYv1fbLKIWm"
      }
    },
    {
      "cell_type": "code",
      "source": [
        "# To start, we will take a random value for bias and weights,\n",
        "import random\n",
        "def initialize():\n",
        "  b=random.random()\n",
        "  theta=random.random()\n",
        "  return b,theta\n",
        "b,theta=initialize() #here, weight is of 1D as, X is of 1D (no. of independent variables=1)\n",
        "print(\"Bias: \",b,\"Weights: \",theta)\n"
      ],
      "metadata": {
        "colab": {
          "base_uri": "https://localhost:8080/"
        },
        "id": "Mtddloz5KBZM",
        "outputId": "2f68a696-5aab-4a13-c79d-474264ef5207"
      },
      "execution_count": 341,
      "outputs": [
        {
          "output_type": "stream",
          "name": "stdout",
          "text": [
            "Bias:  0.7798046583031081 Weights:  0.6373886289860563\n"
          ]
        }
      ]
    },
    {
      "cell_type": "code",
      "source": [
        "fig = plt.figure(figsize=(5,5))\n",
        "plt.plot(X, theta*X + b, 'k-')\n",
        "for i in range(0,len(X)):\n",
        "  plt.xlabel(\"x coordinate\")\n",
        "  plt.ylabel(\"y coordinate\")\n",
        "  plt.title(\"Dataset with the classifier before training\")\n",
        "  if Y[i] < 0.4:\n",
        "    plt.scatter(X[i],Y[i],c='r')\n",
        "  if Y[i] > 0.4:\n",
        "    plt.scatter(X[i],Y[i],c='g')"
      ],
      "metadata": {
        "colab": {
          "base_uri": "https://localhost:8080/",
          "height": 350
        },
        "id": "b4Oz_gyDnHM1",
        "outputId": "e5e8736e-66e9-492f-ca77-9b9b749e263b"
      },
      "execution_count": 342,
      "outputs": [
        {
          "output_type": "display_data",
          "data": {
            "text/plain": [
              "<Figure size 360x360 with 1 Axes>"
            ],
            "image/png": "[encoded data removed]"
          },
          "metadata": {
            "needs_background": "light"
          }
        }
      ]
    },
    {
      "cell_type": "code",
      "source": [
        "# calculating the output (Y) using these weights and bias.\n",
        "# In gradient descent algo, w is the slope and b is the intercept\n",
        "def predict_Y(b,theta,X):\n",
        "  return ((theta * X) + b).reshape(1000)\n",
        "Y_hat=predict_Y(b,theta,X) #Y_hat = predicted value\n",
        "Y_hat[0:10]"
      ],
      "metadata": {
        "colab": {
          "base_uri": "https://localhost:8080/"
        },
        "id": "N1dyGy2xJZUx",
        "outputId": "25f2f2a9-87bf-4eb6-a94a-662d00446eab"
      },
      "execution_count": 343,
      "outputs": [
        {
          "output_type": "execute_result",
          "data": {
            "text/plain": [
              "array([1.23682376, 0.84046382, 1.40055933, 1.23338273, 0.86219322,\n",
              "       0.97258705, 1.32325661, 1.00101071, 0.89194531, 1.34149694])"
            ]
          },
          "metadata": {},
          "execution_count": 343
        }
      ]
    },
    {
      "cell_type": "code",
      "source": [
        "import math\n",
        "\n",
        "def get_cost(y_pred, y_true):          #MAE loss function\n",
        "  abs_error = np.abs(y_pred - y_true)\n",
        "  sum_abs_error = np.sum(abs_error)\n",
        "  loss = sum_abs_error / y_true.size\n",
        "  return loss\n",
        "\n",
        "Y_hat=predict_Y(b,theta,X)\n",
        "get_cost(Y,Y_hat)"
      ],
      "metadata": {
        "colab": {
          "base_uri": "https://localhost:8080/"
        },
        "id": "VJ3YMg6QsK4w",
        "outputId": "5ad105b9-cc8d-4b9b-fcd0-bdba797e1bf9"
      },
      "execution_count": 344,
      "outputs": [
        {
          "output_type": "execute_result",
          "data": {
            "text/plain": [
              "0.6001072624176308"
            ]
          },
          "metadata": {},
          "execution_count": 344
        }
      ]
    },
    {
      "cell_type": "markdown",
      "source": [
        "**Gradient Descent Algorithm**\n",
        "\n",
        "The parameters passed to the gradient descent formula are\n",
        "\n",
        "  x,y : the input and output variable\n",
        "\n",
        "  y_hat: predicted value with current bias and weights\n",
        "\n",
        "  b_0,theta_0: current bias and weights\n",
        "\n",
        "  Learning rate: learning rate to adjust the update step\n"
      ],
      "metadata": {
        "id": "AWfKZddmsrG5"
      }
    },
    {
      "cell_type": "code",
      "source": [
        "def update_theta(x,y,y_hat,b_0,theta_o,learning_rate):\n",
        "  db=(np.sum(y_hat-y)*2)/len(y)\n",
        "  dw=(np.dot((y_hat-y),x)*2)/len(y)\n",
        "  b_1=b_0-learning_rate*db\n",
        "  theta_1=theta_o-learning_rate*dw\n",
        "  return b_1,theta_1\n",
        "print(\"After initialization, Bias: \",b,\"theta: \",theta)\n",
        "Y_hat=predict_Y(b,theta,X)\n",
        "b,theta=update_theta(X,Y,Y_hat,b,theta,0.01)\n",
        "print(\"After first update, Bias: \",b,\"theta: \",theta)\n",
        "print(\"Loss after 1st iteration: \",get_cost(Y,Y_hat))"
      ],
      "metadata": {
        "colab": {
          "base_uri": "https://localhost:8080/"
        },
        "id": "jQ4QBCP-BaPQ",
        "outputId": "2375be5a-21fb-4cd2-a56c-ffa180cf6bf3"
      },
      "execution_count": 345,
      "outputs": [
        {
          "output_type": "stream",
          "name": "stdout",
          "text": [
            "After initialization, Bias:  0.7798046583031081 theta:  0.6373886289860563\n",
            "After first update, Bias:  0.7678902921937067 theta:  0.6305064444674696\n",
            "Loss after 1st iteration:  0.6001072624176308\n"
          ]
        }
      ]
    },
    {
      "cell_type": "markdown",
      "source": [
        "Gradient descent function with 200 iterations"
      ],
      "metadata": {
        "id": "_gS0Pezt4rX8"
      }
    },
    {
      "cell_type": "code",
      "source": [
        "def run_gradient_descent(X,Y,alpha,num_iterations):\n",
        "  b,theta=initialize()\n",
        "  iter_num=0\n",
        "  gd_iterations_df=pd.DataFrame(columns=['iteration','cost'])\n",
        "  result_idx=0\n",
        "  for each_iter in range(num_iterations):\n",
        "    Y_hat=predict_Y(b,theta,X)\n",
        "    this_cost=get_cost(Y,Y_hat)\n",
        "    prev_b=b\n",
        "    prev_theta=theta\n",
        "    b,theta=update_theta(X,Y,Y_hat,prev_b,prev_theta,alpha)\n",
        "    if(iter_num%10==0):\n",
        "      gd_iterations_df.loc[result_idx]=[iter_num,this_cost]\n",
        "      result_idx=result_idx+1\n",
        "    iter_num +=1\n",
        "  print(f\"Final Estimate of b and theta for learning rate = {alpha} and no. of iterations = {num_iterations}: \",b,\" and \",theta)\n",
        "  return gd_iterations_df,b,theta\n",
        "\n",
        "gd_iterations_df,b,theta=run_gradient_descent(X,Y,alpha=0.001,num_iterations=200)"
      ],
      "metadata": {
        "id": "eOpIB-n9tEV-",
        "colab": {
          "base_uri": "https://localhost:8080/"
        },
        "outputId": "b9e430c1-4e8b-426b-f570-e71ad51aafae"
      },
      "execution_count": 346,
      "outputs": [
        {
          "output_type": "stream",
          "name": "stdout",
          "text": [
            "Final Estimate of b and theta for learning rate = 0.001 and no. of iterations = 200:  0.1641081821001977  and  0.2924491145128962\n"
          ]
        }
      ]
    },
    {
      "cell_type": "code",
      "source": [
        "#plotting the cost function to iterations to see the result.\n",
        "gd_iterations_df[0:20]"
      ],
      "metadata": {
        "id": "RYDSmpGetEcd",
        "colab": {
          "base_uri": "https://localhost:8080/",
          "height": 676
        },
        "outputId": "09948bcd-b26c-4095-df9f-fc7ab22db103"
      },
      "execution_count": 347,
      "outputs": [
        {
          "output_type": "execute_result",
          "data": {
            "text/plain": [
              "    iteration      cost\n",
              "0         0.0  0.345411\n",
              "1        10.0  0.340972\n",
              "2        20.0  0.336705\n",
              "3        30.0  0.332662\n",
              "4        40.0  0.328755\n",
              "5        50.0  0.325039\n",
              "6        60.0  0.321506\n",
              "7        70.0  0.318181\n",
              "8        80.0  0.315016\n",
              "9        90.0  0.312011\n",
              "10      100.0  0.309178\n",
              "11      110.0  0.306490\n",
              "12      120.0  0.303917\n",
              "13      130.0  0.301451\n",
              "14      140.0  0.299114\n",
              "15      150.0  0.296881\n",
              "16      160.0  0.294731\n",
              "17      170.0  0.292651\n",
              "18      180.0  0.290686\n",
              "19      190.0  0.288872"
            ],
            "text/html": [
              "\n",
              "  <div id=\"df-714b668f-ff72-46f9-be8c-561610652c4d\">\n",
              "    <div class=\"colab-df-container\">\n",
              "      <div>\n",
              "<style scoped>\n",
              "    .dataframe tbody tr th:only-of-type {\n",
              "        vertical-align: middle;\n",
              "    }\n",
              "\n",
              "    .dataframe tbody tr th {\n",
              "        vertical-align: top;\n",
              "    }\n",
              "\n",
              "    .dataframe thead th {\n",
              "        text-align: right;\n",
              "    }\n",
              "</style>\n",
              "<table border=\"1\" class=\"dataframe\">\n",
              "  <thead>\n",
              "    <tr style=\"text-align: right;\">\n",
              "      <th></th>\n",
              "      <th>iteration</th>\n",
              "      <th>cost</th>\n",
              "    </tr>\n",
              "  </thead>\n",
              "  <tbody>\n",
              "    <tr>\n",
              "      <th>0</th>\n",
              "      <td>0.0</td>\n",
              "      <td>0.345411</td>\n",
              "    </tr>\n",
              "    <tr>\n",
              "      <th>1</th>\n",
              "      <td>10.0</td>\n",
              "      <td>0.340972</td>\n",
              "    </tr>\n",
              "    <tr>\n",
              "      <th>2</th>\n",
              "      <td>20.0</td>\n",
              "      <td>0.336705</td>\n",
              "    </tr>\n",
              "    <tr>\n",
              "      <th>3</th>\n",
              "      <td>30.0</td>\n",
              "      <td>0.332662</td>\n",
              "    </tr>\n",
              "    <tr>\n",
              "      <th>4</th>\n",
              "      <td>40.0</td>\n",
              "      <td>0.328755</td>\n",
              "    </tr>\n",
              "    <tr>\n",
              "      <th>5</th>\n",
              "      <td>50.0</td>\n",
              "      <td>0.325039</td>\n",
              "    </tr>\n",
              "    <tr>\n",
              "      <th>6</th>\n",
              "      <td>60.0</td>\n",
              "      <td>0.321506</td>\n",
              "    </tr>\n",
              "    <tr>\n",
              "      <th>7</th>\n",
              "      <td>70.0</td>\n",
              "      <td>0.318181</td>\n",
              "    </tr>\n",
              "    <tr>\n",
              "      <th>8</th>\n",
              "      <td>80.0</td>\n",
              "      <td>0.315016</td>\n",
              "    </tr>\n",
              "    <tr>\n",
              "      <th>9</th>\n",
              "      <td>90.0</td>\n",
              "      <td>0.312011</td>\n",
              "    </tr>\n",
              "    <tr>\n",
              "      <th>10</th>\n",
              "      <td>100.0</td>\n",
              "      <td>0.309178</td>\n",
              "    </tr>\n",
              "    <tr>\n",
              "      <th>11</th>\n",
              "      <td>110.0</td>\n",
              "      <td>0.306490</td>\n",
              "    </tr>\n",
              "    <tr>\n",
              "      <th>12</th>\n",
              "      <td>120.0</td>\n",
              "      <td>0.303917</td>\n",
              "    </tr>\n",
              "    <tr>\n",
              "      <th>13</th>\n",
              "      <td>130.0</td>\n",
              "      <td>0.301451</td>\n",
              "    </tr>\n",
              "    <tr>\n",
              "      <th>14</th>\n",
              "      <td>140.0</td>\n",
              "      <td>0.299114</td>\n",
              "    </tr>\n",
              "    <tr>\n",
              "      <th>15</th>\n",
              "      <td>150.0</td>\n",
              "      <td>0.296881</td>\n",
              "    </tr>\n",
              "    <tr>\n",
              "      <th>16</th>\n",
              "      <td>160.0</td>\n",
              "      <td>0.294731</td>\n",
              "    </tr>\n",
              "    <tr>\n",
              "      <th>17</th>\n",
              "      <td>170.0</td>\n",
              "      <td>0.292651</td>\n",
              "    </tr>\n",
              "    <tr>\n",
              "      <th>18</th>\n",
              "      <td>180.0</td>\n",
              "      <td>0.290686</td>\n",
              "    </tr>\n",
              "    <tr>\n",
              "      <th>19</th>\n",
              "      <td>190.0</td>\n",
              "      <td>0.288872</td>\n",
              "    </tr>\n",
              "  </tbody>\n",
              "</table>\n",
              "</div>\n",
              "      <button class=\"colab-df-convert\" onclick=\"convertToInteractive('df-714b668f-ff72-46f9-be8c-561610652c4d')\"\n",
              "              title=\"Convert this dataframe to an interactive table.\"\n",
              "              style=\"display:none;\">\n",
              "        \n",
              "  <svg xmlns=\"http://www.w3.org/2000/svg\" height=\"24px\"viewBox=\"0 0 24 24\"\n",
              "       width=\"24px\">\n",
              "    <path d=\"M0 0h24v24H0V0z\" fill=\"none\"/>\n",
              "    <path d=\"M18.56 5.44l.94 2.06.94-2.06 2.06-.94-2.06-.94-.94-2.06-.94 2.06-2.06.94zm-11 1L8.5 8.5l.94-2.06 2.06-.94-2.06-.94L8.5 2.5l-.94 2.06-2.06.94zm10 10l.94 2.06.94-2.06 2.06-.94-2.06-.94-.94-2.06-.94 2.06-2.06.94z\"/><path d=\"M17.41 7.96l-1.37-1.37c-.4-.4-.92-.59-1.43-.59-.52 0-1.04.2-1.43.59L10.3 9.45l-7.72 7.72c-.78.78-.78 2.05 0 2.83L4 21.41c.39.39.9.59 1.41.59.51 0 1.02-.2 1.41-.59l7.78-7.78 2.81-2.81c.8-.78.8-2.07 0-2.86zM5.41 20L4 18.59l7.72-7.72 1.47 1.35L5.41 20z\"/>\n",
              "  </svg>\n",
              "      </button>\n",
              "      \n",
              "  <style>\n",
              "    .colab-df-container {\n",
              "      display:flex;\n",
              "      flex-wrap:wrap;\n",
              "      gap: 12px;\n",
              "    }\n",
              "\n",
              "    .colab-df-convert {\n",
              "      background-color: #E8F0FE;\n",
              "      border: none;\n",
              "      border-radius: 50%;\n",
              "      cursor: pointer;\n",
              "      display: none;\n",
              "      fill: #1967D2;\n",
              "      height: 32px;\n",
              "      padding: 0 0 0 0;\n",
              "      width: 32px;\n",
              "    }\n",
              "\n",
              "    .colab-df-convert:hover {\n",
              "      background-color: #E2EBFA;\n",
              "      box-shadow: 0px 1px 2px rgba(60, 64, 67, 0.3), 0px 1px 3px 1px rgba(60, 64, 67, 0.15);\n",
              "      fill: #174EA6;\n",
              "    }\n",
              "\n",
              "    [theme=dark] .colab-df-convert {\n",
              "      background-color: #3B4455;\n",
              "      fill: #D2E3FC;\n",
              "    }\n",
              "\n",
              "    [theme=dark] .colab-df-convert:hover {\n",
              "      background-color: #434B5C;\n",
              "      box-shadow: 0px 1px 3px 1px rgba(0, 0, 0, 0.15);\n",
              "      filter: drop-shadow(0px 1px 2px rgba(0, 0, 0, 0.3));\n",
              "      fill: #FFFFFF;\n",
              "    }\n",
              "  </style>\n",
              "\n",
              "      <script>\n",
              "        const buttonEl =\n",
              "          document.querySelector('#df-714b668f-ff72-46f9-be8c-561610652c4d button.colab-df-convert');\n",
              "        buttonEl.style.display =\n",
              "          google.colab.kernel.accessAllowed ? 'block' : 'none';\n",
              "\n",
              "        async function convertToInteractive(key) {\n",
              "          const element = document.querySelector('#df-714b668f-ff72-46f9-be8c-561610652c4d');\n",
              "          const dataTable =\n",
              "            await google.colab.kernel.invokeFunction('convertToInteractive',\n",
              "                                                     [key], {});\n",
              "          if (!dataTable) return;\n",
              "\n",
              "          const docLinkHtml = 'Like what you see? Visit the ' +\n",
              "            '<a target=\"_blank\" href=https://colab.research.google.com/notebooks/data_table.ipynb>data table notebook</a>'\n",
              "            + ' to learn more about interactive tables.';\n",
              "          element.innerHTML = '';\n",
              "          dataTable['output_type'] = 'display_data';\n",
              "          await google.colab.output.renderOutput(dataTable, element);\n",
              "          const docLink = document.createElement('div');\n",
              "          docLink.innerHTML = docLinkHtml;\n",
              "          element.appendChild(docLink);\n",
              "        }\n",
              "      </script>\n",
              "    </div>\n",
              "  </div>\n",
              "  "
            ]
          },
          "metadata": {},
          "execution_count": 347
        }
      ]
    },
    {
      "cell_type": "markdown",
      "source": [
        "As we can see the cost function decreases with increase in iterations, but we still have not reached convergence. Now, let’s try with α=0.01 for 1500 iterations "
      ],
      "metadata": {
        "id": "tevPxgHdBh9K"
      }
    },
    {
      "cell_type": "code",
      "source": [
        "alpha_df_2,b,theta=run_gradient_descent(X,Y,alpha=0.001,num_iterations=1500)\n",
        "alpha_df_1,b,theta=run_gradient_descent(X,Y,alpha=0.01,num_iterations=1500)\n",
        "plt.plot(alpha_df_1['iteration'],alpha_df_1['cost'],label=\"alpha=0.01\")\n",
        "plt.plot(alpha_df_2['iteration'],alpha_df_2['cost'],label=\"alpha=0.001\")\n",
        "plt.legend()\n",
        "plt.ylabel('cost')\n",
        "plt.xlabel('Number of iterations')\n",
        "plt.title('Cost Vs. Iterations for different alpha values')"
      ],
      "metadata": {
        "colab": {
          "base_uri": "https://localhost:8080/",
          "height": 347
        },
        "id": "lwqFy046Bl6q",
        "outputId": "e7cecef1-115b-4157-e250-3ca002be391f"
      },
      "execution_count": 348,
      "outputs": [
        {
          "output_type": "stream",
          "name": "stdout",
          "text": [
            "Final Estimate of b and theta for learning rate = 0.001 and no. of iterations = 1500:  0.5137963210367098  and  -0.01884032270667113\n",
            "Final Estimate of b and theta for learning rate = 0.01 and no. of iterations = 1500:  0.4881724541148943  and  0.012656374425481306\n"
          ]
        },
        {
          "output_type": "execute_result",
          "data": {
            "text/plain": [
              "Text(0.5, 1.0, 'Cost Vs. Iterations for different alpha values')"
            ]
          },
          "metadata": {},
          "execution_count": 348
        },
        {
          "output_type": "display_data",
          "data": {
            "text/plain": [
              "<Figure size 432x288 with 1 Axes>"
            ],
            "image/png": "[encoded data removed]"
          },
          "metadata": {
            "needs_background": "light"
          }
        }
      ]
    },
    {
      "cell_type": "markdown",
      "source": [
        "As one can see, for this particular dataset, 0.01 is the more optimal learning rate as it converges much quicker than 0.001"
      ],
      "metadata": {
        "id": "49M_BETYCMC9"
      }
    },
    {
      "cell_type": "code",
      "source": [
        "fig = plt.figure(figsize=(5,5))\n",
        "plt.plot(X, theta*X + b, 'k-')\n",
        "\n",
        "for i in range(0,len(X)):\n",
        "  plt.xlabel(\"x coordinate\")\n",
        "  plt.ylabel(\"y coordinate\")\n",
        "  plt.title(\"Dataset with the classifier after training\")\n",
        "  if Y[i] < 0.4:\n",
        "    plt.scatter(X[i],Y[i],c='r')\n",
        "  if Y[i] > 0.4:\n",
        "    plt.scatter(X[i],Y[i],c='g')"
      ],
      "metadata": {
        "colab": {
          "base_uri": "https://localhost:8080/",
          "height": 350
        },
        "id": "L-YHmUacCY3O",
        "outputId": "e875a784-440a-4d80-9741-b9669f81f3f2"
      },
      "execution_count": 349,
      "outputs": [
        {
          "output_type": "display_data",
          "data": {
            "text/plain": [
              "<Figure size 360x360 with 1 Axes>"
            ],
            "image/png": "[encoded data removed]"
          },
          "metadata": {
            "needs_background": "light"
          }
        }
      ]
    },
    {
      "cell_type": "code",
      "source": [],
      "metadata": {
        "id": "StcCcOEmuJfs"
      },
      "execution_count": null,
      "outputs": []
    },
    {
      "cell_type": "markdown",
      "source": [
        "# **Ques 3**"
      ],
      "metadata": {
        "id": "4bzWEDcBsrmu"
      }
    },
    {
      "cell_type": "markdown",
      "source": [
        "**Creating dataset**\n",
        "Generated two sets of 2D points, one lying on the circumference of a circle with radius r1=5 and another on a circle with radius r2=3. The data from each set is concatenated and assigned labels 0 and 1 (binary classification)"
      ],
      "metadata": {
        "id": "pOl8tLYMJP-L"
      }
    },
    {
      "cell_type": "code",
      "source": [
        "#contains 400 data points\n",
        "\n",
        "np.random.seed(0)\n",
        "\n",
        "r1 = 5\n",
        "r2 = 3\n",
        "\n",
        "theta = np.linspace(0, 2 * np.pi, 200)\n",
        "x1 = r1 * np.cos(theta)\n",
        "y1 = r1 * np.sin(theta)\n",
        "x2 = r2 * np.cos(theta) \n",
        "y2 = r2 * np.sin(theta)\n",
        "\n",
        "X = np.concatenate((np.column_stack((x1, y1)), np.column_stack((x2, y2))), axis=0)\n",
        "Y = np.concatenate((np.zeros(200), np.ones(200)), axis=0)\n",
        "# np.random.shuffle(Y)\n",
        "\n",
        "plt.scatter(X[:, 0], X[:, 1], c=Y)\n",
        "plt.show()\n",
        "\n",
        "# Normalizing so that the model learns faster\n",
        "X -= X.min()\n",
        "X /= X.max()\n",
        "\n",
        "X = X.T\n",
        "Y = Y.reshape(1,400)\n",
        "print(X.shape)\n",
        "print(Y.shape)\n"
      ],
      "metadata": {
        "colab": {
          "base_uri": "https://localhost:8080/",
          "height": 300
        },
        "id": "WEeS4d6AJBIh",
        "outputId": "c2e9d3b1-814e-46d3-dfca-2bcae5ef7608"
      },
      "execution_count": 362,
      "outputs": [
        {
          "output_type": "display_data",
          "data": {
            "text/plain": [
              "<Figure size 432x288 with 1 Axes>"
            ],
            "image/png": "[encoded data removed]"
          },
          "metadata": {
            "needs_background": "light"
          }
        },
        {
          "output_type": "stream",
          "name": "stdout",
          "text": [
            "(2, 400)\n",
            "(1, 400)\n"
          ]
        }
      ]
    },
    {
      "cell_type": "markdown",
      "source": [
        "Activation function"
      ],
      "metadata": {
        "id": "tHdMyIS8YDyD"
      }
    },
    {
      "cell_type": "code",
      "source": [
        "def sigmoid(x):\n",
        "  return 1 / (1 + np.exp(-x))"
      ],
      "metadata": {
        "id": "bCuZpcg-Jj70"
      },
      "execution_count": 363,
      "outputs": []
    },
    {
      "cell_type": "markdown",
      "source": [
        "**Defining the neural network** having one hidden layer with 20 neurons"
      ],
      "metadata": {
        "id": "8mqOBiUZOKxP"
      }
    },
    {
      "cell_type": "code",
      "source": [
        "# defining the model architecture\n",
        "inputLayer_neurons = X.shape[0]  # number of features in data set\n",
        "hiddenLayer_neurons = 20  # number of hidden layers neurons\n",
        "outputLayer_neurons = 1  # number of neurons at output layer\n",
        "\n",
        "# initializing the weights\n",
        "weights_input_hidden = np.random.uniform(size=(inputLayer_neurons, hiddenLayer_neurons))\n",
        "weights_hidden_output = np.random.uniform(\n",
        "    size=(hiddenLayer_neurons, outputLayer_neurons)\n",
        ")\n",
        "\n",
        "# defining the parameters\n",
        "lr = 0.1\n",
        "epochs = 10000"
      ],
      "metadata": {
        "id": "S3ZuT5uQOLap"
      },
      "execution_count": 365,
      "outputs": []
    },
    {
      "cell_type": "markdown",
      "source": [
        "While I tried with lr = 0.01 and no.of epochs =1000, loss was not getting converged."
      ],
      "metadata": {
        "id": "C9ya5LAyWUN6"
      }
    },
    {
      "cell_type": "code",
      "source": [
        "epc=[] #for storing epoch count\n",
        "err=[] #for storing average loss till that epoch\n",
        "for epoch in range(0, epochs):\n",
        "    ## Forward Propogation\n",
        "\n",
        "    # calculating hidden layer activations\n",
        "    hiddenLayer_linearTransform = np.dot(weights_input_hidden.T, X)\n",
        "    hiddenLayer_activations = sigmoid(hiddenLayer_linearTransform)\n",
        "\n",
        "    # calculating the output\n",
        "    outputLayer_linearTransform = np.dot(weights_hidden_output.T, hiddenLayer_activations)\n",
        "    output = sigmoid(outputLayer_linearTransform)\n",
        "\n",
        "    ## Back Propagation\n",
        "\n",
        "    # error calculation\n",
        "    error = get_cost(output,Y)  #using MAE error from ques 2\n",
        "\n",
        "    # calculating rate of change of error w.r.t weight between hidden and output layer\n",
        "    error_wrt_output = -(Y - output)\n",
        "    output_wrt_outputLayer_LinearTransform = np.multiply(output, (1 - output))\n",
        "    outputLayer_LinearTransform_wrt_weights_hidden_output = hiddenLayer_activations\n",
        "\n",
        "    error_wrt_weights_hidden_output = np.dot(\n",
        "        outputLayer_LinearTransform_wrt_weights_hidden_output,\n",
        "        (error_wrt_output * output_wrt_outputLayer_LinearTransform).T,\n",
        "    )\n",
        "\n",
        "    # calculating rate of change of error w.r.t weights between input and hidden layer\n",
        "    outputLayer_LinearTransform_wrt_hiddenLayer_activations = weights_hidden_output\n",
        "    hiddenLayer_activations_wrt_hiddenLayer_linearTransform = np.multiply(hiddenLayer_activations, (1 - hiddenLayer_activations))\n",
        "    hiddenLayer_linearTransform_wrt_weights_input_hidden = X\n",
        "    error_wrt_weights_input_hidden = np.dot(\n",
        "        hiddenLayer_linearTransform_wrt_weights_input_hidden,\n",
        "        (\n",
        "            hiddenLayer_activations_wrt_hiddenLayer_linearTransform\n",
        "            * np.dot(\n",
        "                outputLayer_LinearTransform_wrt_hiddenLayer_activations,\n",
        "                (output_wrt_outputLayer_LinearTransform * error_wrt_output),\n",
        "            )\n",
        "        ).T,\n",
        "    )\n",
        "    # updating the weights\n",
        "    weights_hidden_output = weights_hidden_output - error_wrt_weights_hidden_output * lr\n",
        "    weights_input_hidden = weights_input_hidden - error_wrt_weights_input_hidden * lr\n",
        "\n",
        "    \n",
        "    if epoch%100 == 0:\n",
        "      err.append(np.average(error))\n",
        "      epc.append(epoch)"
      ],
      "metadata": {
        "id": "6c1iQOrJOX71"
      },
      "execution_count": 366,
      "outputs": []
    },
    {
      "cell_type": "code",
      "source": [
        "plt.plot(epc,err)\n",
        "plt.legend()\n",
        "plt.ylabel('Error')\n",
        "plt.xlabel('Number of epochs')\n",
        "plt.title('Error Vs. Epochs ')"
      ],
      "metadata": {
        "colab": {
          "base_uri": "https://localhost:8080/",
          "height": 330
        },
        "id": "JTPm_T9Nao-o",
        "outputId": "c2119ac8-3233-43bb-970c-0a45c8effb3c"
      },
      "execution_count": 367,
      "outputs": [
        {
          "output_type": "stream",
          "name": "stderr",
          "text": [
            "WARNING:matplotlib.legend:No handles with labels found to put in legend.\n"
          ]
        },
        {
          "output_type": "execute_result",
          "data": {
            "text/plain": [
              "Text(0.5, 1.0, 'Error Vs. Epochs ')"
            ]
          },
          "metadata": {},
          "execution_count": 367
        },
        {
          "output_type": "display_data",
          "data": {
            "text/plain": [
              "<Figure size 432x288 with 1 Axes>"
            ],
            "image/png": "[encoded data removed]"
          },
          "metadata": {
            "needs_background": "light"
          }
        }
      ]
    },
    {
      "cell_type": "code",
      "source": [
        "# final output from the model\n",
        "output"
      ],
      "metadata": {
        "colab": {
          "base_uri": "https://localhost:8080/"
        },
        "id": "POHBKoe9osgv",
        "outputId": "403b774d-a676-41ae-e4b6-535999365a22"
      },
      "execution_count": 368,
      "outputs": [
        {
          "output_type": "execute_result",
          "data": {
            "text/plain": [
              "array([[7.32615117e-01, 7.20883199e-01, 7.06029304e-01, 6.88850455e-01,\n",
              "        6.70034721e-01, 6.50183651e-01, 6.29820667e-01, 6.09393600e-01,\n",
              "        5.89276242e-01, 5.69771335e-01, 5.51115687e-01, 5.33487184e-01,\n",
              "        5.17013000e-01, 5.01778232e-01, 4.87834317e-01, 4.75206779e-01,\n",
              "        4.63902047e-01, 4.53913237e-01, 4.45224922e-01, 4.37816962e-01,\n",
              "        4.31667514e-01, 4.26755341e-01, 4.23061556e-01, 4.20570886e-01,\n",
              "        4.19272553e-01, 4.19160840e-01, 4.20235380e-01, 4.22501194e-01,\n",
              "        4.25968486e-01, 4.30652166e-01, 4.36571083e-01, 4.43746892e-01,\n",
              "        4.52202488e-01, 4.61959913e-01, 4.73037611e-01, 4.85446932e-01,\n",
              "        4.99187757e-01, 5.14243168e-01, 5.30573132e-01, 5.48107280e-01,\n",
              "        5.66736996e-01, 5.86307219e-01, 6.06608578e-01, 6.27370625e-01,\n",
              "        6.48256962e-01, 6.68862814e-01, 6.88714912e-01, 7.07272236e-01,\n",
              "        7.23924241e-01, 7.37980409e-01, 7.48641573e-01, 7.54939243e-01,\n",
              "        7.55624562e-01, 7.48985475e-01, 7.32578438e-01, 7.02911679e-01,\n",
              "        6.55297366e-01, 5.84549933e-01, 4.87861828e-01, 3.70517474e-01,\n",
              "        2.49977766e-01, 1.48903820e-01, 7.98426147e-02, 4.00259471e-02,\n",
              "        1.95869313e-02, 9.73297363e-03, 5.07220737e-03, 2.84011513e-03,\n",
              "        1.73660726e-03, 1.16985778e-03, 8.70465658e-04, 7.13784901e-04,\n",
              "        6.41362869e-04, 6.26550758e-04, 6.59532972e-04, 7.41129249e-04,\n",
              "        8.80896327e-04, 1.09772177e-03, 1.42227028e-03, 1.90114378e-03,\n",
              "        2.60274917e-03, 3.62467417e-03, 5.10176107e-03, 7.21289602e-03,\n",
              "        1.01827402e-02, 1.42724977e-02, 1.97523030e-02, 2.68487987e-02,\n",
              "        3.56672848e-02, 4.60995646e-02, 5.77433933e-02, 6.98691514e-02,\n",
              "        8.14642426e-02, 9.13628570e-02, 9.84377771e-02, 1.01808426e-01,\n",
              "        1.01015181e-01, 9.61202935e-02, 8.77108311e-02, 7.67957005e-02,\n",
              "        6.46117636e-02, 5.23841587e-02, 4.11092207e-02, 3.14239283e-02,\n",
              "        2.35886896e-02, 1.75623046e-02, 1.31191466e-02, 9.96067315e-03,\n",
              "        7.79491533e-03, 6.38022120e-03, 5.54289049e-03, 5.18227684e-03,\n",
              "        5.27618663e-03, 5.89870827e-03, 7.26487856e-03, 9.82206233e-03,\n",
              "        1.44100207e-02, 2.24843867e-02, 3.62797117e-02, 5.85209001e-02,\n",
              "        9.10733214e-02, 1.32519771e-01, 1.76448812e-01, 2.12904550e-01,\n",
              "        2.32522074e-01, 2.30166757e-01, 2.06453160e-01, 1.67590824e-01,\n",
              "        1.23433745e-01, 8.34961333e-02, 5.31386302e-02, 3.28818804e-02,\n",
              "        2.05027092e-02, 1.33124798e-02, 9.24181797e-03, 6.98494062e-03,\n",
              "        5.80237654e-03, 5.30679669e-03, 5.31889518e-03, 5.78781666e-03,\n",
              "        6.75343820e-03, 8.33185637e-03, 1.07104406e-02, 1.41404232e-02,\n",
              "        1.89141956e-02, 2.53145911e-02, 3.35292062e-02, 4.35380830e-02,\n",
              "        5.50056217e-02, 6.72251846e-02, 7.91602137e-02, 8.95922981e-02,\n",
              "        9.73408210e-02, 1.01489464e-01, 1.01557515e-01, 9.75791283e-02,\n",
              "        9.00815431e-02, 7.99734156e-02, 6.83693936e-02, 5.63905659e-02,\n",
              "        4.49881138e-02, 3.48306744e-02, 2.62729809e-02, 1.93948750e-02,\n",
              "        1.40806261e-02, 1.01058593e-02, 7.20939768e-03, 5.14094146e-03,\n",
              "        3.68584045e-03, 2.67312277e-03, 1.97360962e-03, 1.49348508e-03,\n",
              "        1.16674029e-03, 9.48295916e-04, 8.08557411e-04, 7.29621452e-04,\n",
              "        7.03209510e-04, 7.30598075e-04, 8.25436369e-04, 1.02178348e-03,\n",
              "        1.39298547e-03, 2.09454949e-03, 3.46097587e-03, 6.22072679e-03,\n",
              "        1.19480980e-02, 2.38967847e-02, 4.81163932e-02, 9.36881131e-02,\n",
              "        1.69151718e-01, 2.73836216e-01, 3.92385613e-01, 5.03170984e-01,\n",
              "        5.92048557e-01, 6.56039558e-01, 6.98543968e-01, 7.24485587e-01,\n",
              "        7.38131049e-01, 7.42644917e-01, 7.40270361e-01, 7.32615117e-01,\n",
              "        9.75249873e-01, 9.72505427e-01, 9.69551318e-01, 9.66396832e-01,\n",
              "        9.63055769e-01, 9.59546474e-01, 9.55891710e-01, 9.52118400e-01,\n",
              "        9.48257229e-01, 9.44342133e-01, 9.40409697e-01, 9.36498485e-01,\n",
              "        9.32648321e-01, 9.28899563e-01, 9.25292383e-01, 9.21866065e-01,\n",
              "        9.18658362e-01, 9.15704898e-01, 9.13038640e-01, 9.10689430e-01,\n",
              "        9.08683600e-01, 9.07043637e-01, 9.05787926e-01, 9.04930543e-01,\n",
              "        9.04481103e-01, 9.04444671e-01, 9.04821700e-01, 9.05608036e-01,\n",
              "        9.06794952e-01, 9.08369244e-01, 9.10313364e-01, 9.12605617e-01,\n",
              "        9.15220410e-01, 9.18128566e-01, 9.21297706e-01, 9.24692693e-01,\n",
              "        9.28276154e-01, 9.32009054e-01, 9.35851343e-01, 9.39762637e-01,\n",
              "        9.43702935e-01, 9.47633350e-01, 9.51516824e-01, 9.55318812e-01,\n",
              "        9.59007901e-01, 9.62556339e-01, 9.65940455e-01, 9.69140958e-01,\n",
              "        9.72143080e-01, 9.74936591e-01, 9.77515657e-01, 9.79878580e-01,\n",
              "        9.82027415e-01, 9.83967501e-01, 9.85706934e-01, 9.87256006e-01,\n",
              "        9.88626633e-01, 9.89831817e-01, 9.90885144e-01, 9.91800348e-01,\n",
              "        9.92590948e-01, 9.93269962e-01, 9.93849702e-01, 9.94341648e-01,\n",
              "        9.94756391e-01, 9.95103642e-01, 9.95392286e-01, 9.95630487e-01,\n",
              "        9.95825820e-01, 9.95985420e-01, 9.96116130e-01, 9.96224636e-01,\n",
              "        9.96317561e-01, 9.96401502e-01, 9.96482988e-01, 9.96568338e-01,\n",
              "        9.96663428e-01, 9.96773378e-01, 9.96902189e-01, 9.97052388e-01,\n",
              "        9.97224748e-01, 9.97418145e-01, 9.97629600e-01, 9.97854522e-01,\n",
              "        9.98087141e-01, 9.98321064e-01, 9.98549881e-01, 9.98767738e-01,\n",
              "        9.98969794e-01, 9.99152510e-01, 9.99313767e-01, 9.99452813e-01,\n",
              "        9.99570078e-01, 9.99666918e-01, 9.99745319e-01, 9.99807624e-01,\n",
              "        9.99856287e-01, 9.99893691e-01, 9.99922023e-01, 9.99943203e-01,\n",
              "        9.99958851e-01, 9.99970297e-01, 9.99978597e-01, 9.99984575e-01,\n",
              "        9.99988859e-01, 9.99991919e-01, 9.99994101e-01, 9.99995658e-01,\n",
              "        9.99996771e-01, 9.99997569e-01, 9.99998144e-01, 9.99998561e-01,\n",
              "        9.99998866e-01, 9.99999090e-01, 9.99999256e-01, 9.99999380e-01,\n",
              "        9.99999473e-01, 9.99999544e-01, 9.99999597e-01, 9.99999637e-01,\n",
              "        9.99999667e-01, 9.99999689e-01, 9.99999703e-01, 9.99999712e-01,\n",
              "        9.99999716e-01, 9.99999715e-01, 9.99999708e-01, 9.99999696e-01,\n",
              "        9.99999678e-01, 9.99999652e-01, 9.99999618e-01, 9.99999572e-01,\n",
              "        9.99999511e-01, 9.99999430e-01, 9.99999324e-01, 9.99999183e-01,\n",
              "        9.99998993e-01, 9.99998737e-01, 9.99998388e-01, 9.99997910e-01,\n",
              "        9.99997249e-01, 9.99996331e-01, 9.99995050e-01, 9.99993257e-01,\n",
              "        9.99990745e-01, 9.99987223e-01, 9.99982298e-01, 9.99975437e-01,\n",
              "        9.99965930e-01, 9.99952853e-01, 9.99935024e-01, 9.99910972e-01,\n",
              "        9.99878912e-01, 9.99836751e-01, 9.99782126e-01, 9.99712491e-01,\n",
              "        9.99625265e-01, 9.99518031e-01, 9.99388803e-01, 9.99236320e-01,\n",
              "        9.99060347e-01, 9.98861932e-01, 9.98643571e-01, 9.98409229e-01,\n",
              "        9.98164182e-01, 9.97914678e-01, 9.97667432e-01, 9.97429019e-01,\n",
              "        9.97205248e-01, 9.97000600e-01, 9.96817816e-01, 9.96657679e-01,\n",
              "        9.96519005e-01, 9.96398820e-01, 9.96292667e-01, 9.96194972e-01,\n",
              "        9.96099413e-01, 9.95999228e-01, 9.95887442e-01, 9.95756992e-01,\n",
              "        9.95600755e-01, 9.95411507e-01, 9.95181815e-01, 9.94903906e-01,\n",
              "        9.94569518e-01, 9.94169762e-01, 9.93695005e-01, 9.93134791e-01,\n",
              "        9.92477816e-01, 9.91711957e-01, 9.90824377e-01, 9.89801704e-01,\n",
              "        9.88630289e-01, 9.87296549e-01, 9.85787387e-01, 9.84090668e-01,\n",
              "        9.82195760e-01, 9.80094092e-01, 9.77779721e-01, 9.75249873e-01]])"
            ]
          },
          "metadata": {},
          "execution_count": 368
        }
      ]
    },
    {
      "cell_type": "markdown",
      "source": [
        " Plotting the decision boundary"
      ],
      "metadata": {
        "id": "CLIu2Ba8q1xA"
      }
    },
    {
      "cell_type": "code",
      "source": [
        "\n",
        "data_pts = 400\n",
        "x_span = np.linspace(X[0, :].min(), X[0, :].max(), data_pts)\n",
        "y_span = np.linspace(X[1, :].min(), X[1, :].max(), data_pts)\n",
        "xx, yy = np.meshgrid(x_span, y_span)\n",
        "\n",
        "# forward pass designed for the region of interest\n",
        "hiddenLayer_linearTransform = np.dot(\n",
        "    weights_input_hidden.T, np.c_[xx.ravel(), yy.ravel()].T\n",
        ")\n",
        "hiddenLayer_activations = sigmoid(hiddenLayer_linearTransform)\n",
        "outputLayer_linearTransform = np.dot(weights_hidden_output.T, hiddenLayer_activations)\n",
        "output_span = sigmoid(outputLayer_linearTransform)\n",
        "\n",
        "# Make predictions across region of interest\n",
        "labels = (output_span > 0.5).astype(int)\n",
        "\n",
        "# Plotting decision boundary on region of interest\n",
        "z = labels.reshape(xx.shape)\n",
        "fig, ax = plt.subplots()\n",
        "ax.contourf(xx, yy, z, alpha=0.1)\n",
        "\n",
        "# creating scatter plot\n",
        "ax.scatter(X[0, :], X[1, :], s=10, c=Y.squeeze())"
      ],
      "metadata": {
        "colab": {
          "base_uri": "https://localhost:8080/",
          "height": 282
        },
        "id": "i7BKc7xAY4Pe",
        "outputId": "9d1e7df3-2cbf-47db-be52-ae30807eda06"
      },
      "execution_count": 369,
      "outputs": [
        {
          "output_type": "execute_result",
          "data": {
            "text/plain": [
              "<matplotlib.collections.PathCollection at 0x7f4a5bd06580>"
            ]
          },
          "metadata": {},
          "execution_count": 369
        },
        {
          "output_type": "display_data",
          "data": {
            "text/plain": [
              "<Figure size 432x288 with 1 Axes>"
            ],
            "image/png": "[encoded data removed]"
          },
          "metadata": {
            "needs_background": "light"
          }
        }
      ]
    }
  ]
}